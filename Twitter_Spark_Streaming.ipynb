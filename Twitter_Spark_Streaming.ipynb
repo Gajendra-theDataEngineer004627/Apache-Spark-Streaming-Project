{
  "nbformat": 4,
  "nbformat_minor": 0,
  "metadata": {
    "colab": {
      "provenance": [],
      "authorship_tag": "ABX9TyOlpTP1cMBacMMZphLPpuyL",
      "include_colab_link": true
    },
    "kernelspec": {
      "name": "python3",
      "display_name": "Python 3"
    },
    "language_info": {
      "name": "python"
    }
  },
  "cells": [
    {
      "cell_type": "markdown",
      "metadata": {
        "id": "view-in-github",
        "colab_type": "text"
      },
      "source": [
        "<a href=\"https://colab.research.google.com/github/Gajendra-theDataEngineer004627/Apache-Spark-Streaming-Project/blob/main/Twitter_Spark_Streaming.ipynb\" target=\"_parent\"><img src=\"https://colab.research.google.com/assets/colab-badge.svg\" alt=\"Open In Colab\"/></a>"
      ]
    },
    {
      "cell_type": "code",
      "execution_count": 20,
      "metadata": {
        "colab": {
          "base_uri": "https://localhost:8080/"
        },
        "id": "X0VRJRyC_q5X",
        "outputId": "25720591-7e1d-4afb-d199-a6a303c53650"
      },
      "outputs": [
        {
          "output_type": "stream",
          "name": "stdout",
          "text": [
            "\r0% [Working]\r            \rHit:1 https://cloud.r-project.org/bin/linux/ubuntu jammy-cran40/ InRelease\n",
            "\r0% [Connecting to archive.ubuntu.com (91.189.91.82)] [Waiting for headers] [Con\r                                                                               \rGet:2 http://security.ubuntu.com/ubuntu jammy-security InRelease [110 kB]\n",
            "\r0% [Waiting for headers] [2 InRelease 14.2 kB/110 kB 13%] [Connecting to ppa.la\r                                                                               \rHit:3 https://developer.download.nvidia.com/compute/cuda/repos/ubuntu2204/x86_64  InRelease\n",
            "\r0% [Waiting for headers] [2 InRelease 14.2 kB/110 kB 13%] [Connecting to ppa.la\r                                                                               \rHit:4 http://archive.ubuntu.com/ubuntu jammy InRelease\n",
            "Get:5 http://archive.ubuntu.com/ubuntu jammy-updates InRelease [119 kB]\n",
            "Hit:6 http://archive.ubuntu.com/ubuntu jammy-backports InRelease\n",
            "Hit:7 https://ppa.launchpadcontent.net/c2d4u.team/c2d4u4.0+/ubuntu jammy InRelease\n",
            "Hit:8 https://ppa.launchpadcontent.net/deadsnakes/ppa/ubuntu jammy InRelease\n",
            "Hit:9 https://ppa.launchpadcontent.net/graphics-drivers/ppa/ubuntu jammy InRelease\n",
            "Hit:10 https://ppa.launchpadcontent.net/ubuntugis/ppa/ubuntu jammy InRelease\n",
            "Fetched 229 kB in 2s (118 kB/s)\n",
            "Reading package lists... Done\n"
          ]
        }
      ],
      "source": [
        "!apt-get update -y"
      ]
    },
    {
      "cell_type": "code",
      "source": [
        "!apt-get install openjdk-8-jdk-headless -qq > /dev/null"
      ],
      "metadata": {
        "id": "HtmLyhOd_3bC"
      },
      "execution_count": 21,
      "outputs": []
    },
    {
      "cell_type": "code",
      "source": [
        "!wget -q https://archive.apache.org/dist/spark/spark-3.1.2/spark-3.1.2-bin-hadoop2.7.tgz"
      ],
      "metadata": {
        "id": "KxNj_99y_6GR"
      },
      "execution_count": 22,
      "outputs": []
    },
    {
      "cell_type": "code",
      "source": [
        "!tar xf spark-3.1.2-bin-hadoop2.7.tgz"
      ],
      "metadata": {
        "id": "Op0FL9Fn_7oR"
      },
      "execution_count": 23,
      "outputs": []
    },
    {
      "cell_type": "code",
      "source": [
        "import os\n",
        "os.environ[\"JAVA_HOME\"] = \"/usr/lib/jvm/java-8-openjdk-amd64\"\n",
        "os.environ[\"SPARK_HOME\"] = \"/content/spark-3.1.2-bin-hadoop2.7\""
      ],
      "metadata": {
        "id": "xV6IQDcvCIk6"
      },
      "execution_count": 24,
      "outputs": []
    },
    {
      "cell_type": "code",
      "source": [
        "from pyspark.sql import SparkSession\n",
        "spark = (SparkSession\n",
        " .builder\n",
        " .appName(\"\")\n",
        " .getOrCreate())"
      ],
      "metadata": {
        "id": "QZ5FuCH1__cY"
      },
      "execution_count": 25,
      "outputs": []
    },
    {
      "cell_type": "code",
      "source": [
        "!pip install tweepy"
      ],
      "metadata": {
        "colab": {
          "base_uri": "https://localhost:8080/"
        },
        "id": "J2txlK6pGTaa",
        "outputId": "0686565d-bf5d-4692-818c-644f8459978b"
      },
      "execution_count": 26,
      "outputs": [
        {
          "output_type": "stream",
          "name": "stdout",
          "text": [
            "Requirement already satisfied: tweepy in /usr/local/lib/python3.10/dist-packages (4.13.0)\n",
            "Requirement already satisfied: oauthlib<4,>=3.2.0 in /usr/local/lib/python3.10/dist-packages (from tweepy) (3.2.2)\n",
            "Requirement already satisfied: requests<3,>=2.27.0 in /usr/local/lib/python3.10/dist-packages (from tweepy) (2.31.0)\n",
            "Requirement already satisfied: requests-oauthlib<2,>=1.2.0 in /usr/local/lib/python3.10/dist-packages (from tweepy) (1.3.1)\n",
            "Requirement already satisfied: charset-normalizer<4,>=2 in /usr/local/lib/python3.10/dist-packages (from requests<3,>=2.27.0->tweepy) (3.2.0)\n",
            "Requirement already satisfied: idna<4,>=2.5 in /usr/local/lib/python3.10/dist-packages (from requests<3,>=2.27.0->tweepy) (3.4)\n",
            "Requirement already satisfied: urllib3<3,>=1.21.1 in /usr/local/lib/python3.10/dist-packages (from requests<3,>=2.27.0->tweepy) (2.0.4)\n",
            "Requirement already satisfied: certifi>=2017.4.17 in /usr/local/lib/python3.10/dist-packages (from requests<3,>=2.27.0->tweepy) (2023.7.22)\n"
          ]
        }
      ]
    },
    {
      "cell_type": "code",
      "source": [
        "import tweepy"
      ],
      "metadata": {
        "id": "LCAorAhRLS-M"
      },
      "execution_count": 27,
      "outputs": []
    },
    {
      "cell_type": "code",
      "source": [
        "from tweepy.auth import OAuthHandler"
      ],
      "metadata": {
        "id": "8JZRRItZLWeD"
      },
      "execution_count": 28,
      "outputs": []
    },
    {
      "cell_type": "code",
      "source": [
        "from tweepy import Stream"
      ],
      "metadata": {
        "id": "jf7TUlF6Ljzy"
      },
      "execution_count": 38,
      "outputs": []
    },
    {
      "cell_type": "code",
      "source": [
        "import socket"
      ],
      "metadata": {
        "id": "Gw-rFBgcLsmz"
      },
      "execution_count": 31,
      "outputs": []
    },
    {
      "cell_type": "code",
      "source": [
        "import json"
      ],
      "metadata": {
        "id": "-yG3rkFILv3D"
      },
      "execution_count": 32,
      "outputs": []
    },
    {
      "cell_type": "code",
      "source": [
        "# setting up the credentials from twitter\n",
        "\n",
        "consumer_key  = 'pg93eTxKIcNRLacnOuG1w16id'\n",
        "consumer_secret = 'jHfK5AqJmFmfEtaKP5A5LoHg1TpJ3CqfhzRAGkHRGGX1AccN0k'\n",
        "access_token = '1708153183221227520-dhvXK9SMoSfEe6s1W0tNHir0ec8y7s'\n",
        "access_secret = '8Svu4qtQLd2XQnwYfyCX2MPNc0D4PykMTYXe85QFZ43hz'\n"
      ],
      "metadata": {
        "id": "tMz8k4otLxV7"
      },
      "execution_count": null,
      "outputs": []
    },
    {
      "cell_type": "code",
      "source": [
        "class TweetListener(tweepy.Stream):\n",
        "  def __init__(self,csocket):\n",
        "    selef.client_socket = csocket\n",
        "\n",
        "\n",
        "  # defining function on date\n",
        "  def on_data(self, data):\n",
        "    try:\n",
        "      message = json.loads(data)\n",
        "      print(message['text'].encode('utf-8'))\n",
        "      self.client_socket.send(message['text'].encode('utf-8'))\n",
        "      return True\n",
        "    except BaseExceptiuon as error:\n",
        "      print(\"error on_date: %s\" % str(e))\n",
        "    return True\n",
        "\n",
        "# defining if the error came thne which error msg to be get\n",
        "  def on_error(self, status):\n",
        "    print(status)\n",
        "    return True\n",
        "\n"
      ],
      "metadata": {
        "id": "mu7rgo-fN-c9"
      },
      "execution_count": null,
      "outputs": []
    },
    {
      "cell_type": "code",
      "source": [
        "# function for sending data\n",
        "def  sendingData(c_socket):\n",
        "  auth = OAuthHandler(consumer_key,consumer_secret)\n",
        "  auth.set_access_token(access_token, access_secret)\n",
        "\n",
        "  twitter_stream = Stream(auth, TweetListener(c_socket))\n",
        "  twitter_stream.filter(track = ['Football'])\n"
      ],
      "metadata": {
        "id": "oedvSAVjPzIM"
      },
      "execution_count": null,
      "outputs": []
    },
    {
      "cell_type": "code",
      "source": [
        "if __name__ == \"__main__\":\n",
        "  s = socket.socket()\n",
        "  host =  \"127.0.0.1\"\n",
        "  port = 5555\n",
        "  s.bind((host, port))\n",
        "  print(\"Listening on port : %s\" % str(port))\n",
        "  s.listen(5)\n",
        "  c, addr = s.accept()\n",
        "  print(\"Receiving request from : \" + str(addr))\n",
        "  sendingData(c)\n",
        "\n",
        "\n",
        "# we wont be getting any data until we set up the note book for the spark streaming"
      ],
      "metadata": {
        "id": "KWlAh4b7Sa89"
      },
      "execution_count": null,
      "outputs": []
    }
  ]
}